{
 "cells": [
  {
   "cell_type": "markdown",
   "metadata": {},
   "source": [
    "<center>\n",
    "    <img src=\"https://cf-courses-data.s3.us.cloud-object-storage.appdomain.cloud/IBMDeveloperSkillsNetwork-DS0105EN-SkillsNetwork/labs/Module2/images/SN_web_lightmode.png\" width=\"300\" alt=\"cognitiveclass.ai logo\">\n",
    "</center>\n"
   ]
  },
  {
   "cell_type": "markdown",
   "metadata": {},
   "source": [
    "#### Add your code below following the instructions given in the course\n"
   ]
  },
  {
   "cell_type": "markdown",
   "metadata": {},
   "source": [
    "# Data Science Tools Assignment"
   ]
  },
  {
   "cell_type": "markdown",
   "metadata": {},
   "source": [
    "## Introduction\n",
    "This jupyter notebook is meant to serve as an assignment for the Cloudera Course - Tools for Data Science"
   ]
  },
  {
   "cell_type": "markdown",
   "metadata": {},
   "source": [
    "**Objectives**\n",
    "\n",
    "- Create a markdown cell with the title of the notebook. (1 pt)\n",
    "- Create a markdown cell for an introduction. (1 pt)\n",
    "- Create a markdown cell to list data science languages. (3 pts)\n",
    "- Create a markdown cell to list data science libraries. (3 pts)\n",
    "- Create a markdown cell with a table of Data Science tools. (3 pts)\n",
    "- Create a markdown cell introducing arithmetic expression examples. (1 pt)\n",
    "- Create a code cell to multiply and add numbers. (2 pts)\n",
    "- Create a code cell to convert minutes to hours. (2 pts)\n",
    "- Insert a markdown cell to list Objectives. (3 pts)\n",
    "- Create a markdown cell to indicate the Author’s name. (2 pts)\n",
    "- Share your notebook through GitHub (3 pts)\n",
    "- Take a screenshot of the first page of the notebook. (1 pt)"
   ]
  },
  {
   "cell_type": "markdown",
   "metadata": {},
   "source": [
    "## Popular Data Science Languages\n",
    "\n",
    "- Python\n",
    "- R\n",
    "- SQL\n",
    "- Julia\n",
    "- Matlab\n",
    "- Scala"
   ]
  },
  {
   "cell_type": "markdown",
   "metadata": {},
   "source": [
    "## Popular Data Science libraries\n",
    "\n",
    "- NumPy\n",
    "- Pandas\n",
    "- Matplotlib\n",
    "- Seaborn\n",
    "- Scikit-learn\n",
    "- TensorFlow\n",
    "- Keras\n",
    "- PyTorch\n",
    "- SciPy\n",
    "- NLTK"
   ]
  },
  {
   "cell_type": "markdown",
   "metadata": {},
   "source": [
    "## Popular Data Science tools\n",
    "\n",
    "| Tool        | Description                                                                 |\n",
    "|-------------|-----------------------------------------------------------------------------|\n",
    "| Python      | A popular programming language used for data analysis and machine learning |\n",
    "| R           | A programming language and environment for statistical computing and graphics |\n",
    "| SQL         | A language used for managing and querying relational databases              |\n",
    "| Tableau     | A data visualization and business intelligence tool                         |\n",
    "| Excel       | A spreadsheet software often used for data analysis                         |\n",
    "| Apache Spark| A distributed computing framework for big data processing                   |\n",
    "| Hadoop      | An open-source software framework for distributed storage and processing of big data |\n",
    "| Apache Kafka| A distributed streaming platform for handling real-time data feeds          |\n",
    "| SAS         | A statistical software suite for data analysis and business intelligence    |\n",
    "| RapidMiner  | An open-source data science platform for building predictive models         |\n"
   ]
  },
  {
   "cell_type": "markdown",
   "metadata": {},
   "source": [
    "### Arithmetic expressions\n",
    "Below we will provide some example of arithmetric expressions in python:\n"
   ]
  },
  {
   "cell_type": "code",
   "execution_count": 9,
   "metadata": {},
   "outputs": [
    {
     "data": {
      "text/plain": [
       "17"
      ]
     },
     "execution_count": 9,
     "metadata": {},
     "output_type": "execute_result"
    }
   ],
   "source": [
    "# Sum and multiplication sample\n",
    "(4*4) + 1"
   ]
  },
  {
   "cell_type": "code",
   "execution_count": 10,
   "metadata": {},
   "outputs": [
    {
     "data": {
      "text/plain": [
       "3.3333333333333335"
      ]
     },
     "execution_count": 10,
     "metadata": {},
     "output_type": "execute_result"
    }
   ],
   "source": [
    "# Minutes to hours expression\n",
    "\n",
    "200 / 60"
   ]
  },
  {
   "cell_type": "markdown",
   "metadata": {},
   "source": [
    "## Author\n",
    "\n",
    "Author: Caio Olúbini"
   ]
  }
 ],
 "metadata": {
  "kernelspec": {
   "display_name": "Python 3 (ipykernel)",
   "language": "python",
   "name": "python3"
  },
  "language_info": {
   "codemirror_mode": {
    "name": "ipython",
    "version": 3
   },
   "file_extension": ".py",
   "mimetype": "text/x-python",
   "name": "python",
   "nbconvert_exporter": "python",
   "pygments_lexer": "ipython3",
   "version": "3.9.13"
  }
 },
 "nbformat": 4,
 "nbformat_minor": 4
}
